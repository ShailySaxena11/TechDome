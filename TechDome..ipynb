{
 "cells": [
  {
   "cell_type": "code",
   "execution_count": 121,
   "id": "e7f55e0f",
   "metadata": {},
   "outputs": [
    {
     "name": "stderr",
     "output_type": "stream",
     "text": [
      "[nltk_data] Downloading package stopwords to\n",
      "[nltk_data]     C:\\Users\\dell\\AppData\\Roaming\\nltk_data...\n",
      "[nltk_data]   Package stopwords is already up-to-date!\n"
     ]
    }
   ],
   "source": [
    "import pandas as pd\n",
    "import numpy as np\n",
    "import re\n",
    "import nltk\n",
    "nltk.download('stopwords')\n",
    "from nltk.corpus import stopwords\n",
    "from keras.preprocessing.text import Tokenizer\n",
    "from keras.models import Sequential\n",
    "from keras.layers import Embedding, LSTM, Dense\n",
    "from tensorflow.keras.preprocessing.sequence import pad_sequences\n",
    "from sklearn.model_selection import train_test_split\n",
    "from sklearn.metrics import precision_score, recall_score, f1_score"
   ]
  },
  {
   "cell_type": "code",
   "execution_count": 122,
   "id": "0560ecf5",
   "metadata": {},
   "outputs": [],
   "source": [
    "# Load data into a DataFrame\n",
    "df=pd.read_excel(\"D:\\Datasets\\Dataset.xlsx\");"
   ]
  },
  {
   "cell_type": "code",
   "execution_count": 123,
   "id": "e5fa4330",
   "metadata": {},
   "outputs": [
    {
     "data": {
      "text/html": [
       "<div>\n",
       "<style scoped>\n",
       "    .dataframe tbody tr th:only-of-type {\n",
       "        vertical-align: middle;\n",
       "    }\n",
       "\n",
       "    .dataframe tbody tr th {\n",
       "        vertical-align: top;\n",
       "    }\n",
       "\n",
       "    .dataframe thead th {\n",
       "        text-align: right;\n",
       "    }\n",
       "</style>\n",
       "<table border=\"1\" class=\"dataframe\">\n",
       "  <thead>\n",
       "    <tr style=\"text-align: right;\">\n",
       "      <th></th>\n",
       "      <th>Article</th>\n",
       "    </tr>\n",
       "  </thead>\n",
       "  <tbody>\n",
       "    <tr>\n",
       "      <th>0</th>\n",
       "      <td>Retailers, the makers of foods marketed for we...</td>\n",
       "    </tr>\n",
       "    <tr>\n",
       "      <th>1</th>\n",
       "      <td>Move over, Ozempic — there’s a new drug in tow...</td>\n",
       "    </tr>\n",
       "    <tr>\n",
       "      <th>2</th>\n",
       "      <td>Sept 14 (Reuters) - Bristol Myers Squibb (BMY....</td>\n",
       "    </tr>\n",
       "    <tr>\n",
       "      <th>3</th>\n",
       "      <td>Austin Wolcott was 18 years old and pretty sur...</td>\n",
       "    </tr>\n",
       "    <tr>\n",
       "      <th>4</th>\n",
       "      <td>Cancer, often referred to as the “emperor of a...</td>\n",
       "    </tr>\n",
       "    <tr>\n",
       "      <th>5</th>\n",
       "      <td>Nov 28 (Reuters) - The U.S. Food and Drug Admi...</td>\n",
       "    </tr>\n",
       "    <tr>\n",
       "      <th>6</th>\n",
       "      <td>Nov 21 (Reuters) - BeiGene (6160.HK) said on T...</td>\n",
       "    </tr>\n",
       "    <tr>\n",
       "      <th>7</th>\n",
       "      <td>Sept 19 (Reuters) - Drugmaker BeiGene (6160.HK...</td>\n",
       "    </tr>\n",
       "    <tr>\n",
       "      <th>8</th>\n",
       "      <td>BRUKINSA is the first and only BTK inhibitor a...</td>\n",
       "    </tr>\n",
       "    <tr>\n",
       "      <th>9</th>\n",
       "      <td>Whether you're looking for a quick bite to eat...</td>\n",
       "    </tr>\n",
       "    <tr>\n",
       "      <th>10</th>\n",
       "      <td>A federal judge in New York has dismissed a la...</td>\n",
       "    </tr>\n",
       "    <tr>\n",
       "      <th>11</th>\n",
       "      <td>The future of fast food delivery is here.\\n\\nD...</td>\n",
       "    </tr>\n",
       "    <tr>\n",
       "      <th>12</th>\n",
       "      <td>Yum Brands topped Wall Street estimates for th...</td>\n",
       "    </tr>\n",
       "    <tr>\n",
       "      <th>13</th>\n",
       "      <td>If you fancy Taco Bell's Nacho Fries, the fast...</td>\n",
       "    </tr>\n",
       "    <tr>\n",
       "      <th>14</th>\n",
       "      <td>Taco Bell is serving up its new Toasted Breakf...</td>\n",
       "    </tr>\n",
       "    <tr>\n",
       "      <th>15</th>\n",
       "      <td>Oct 30 (Reuters) - McDonald's (MCD.N) beat Wal...</td>\n",
       "    </tr>\n",
       "    <tr>\n",
       "      <th>16</th>\n",
       "      <td>Whether you dip it, drizzle it, or put it on c...</td>\n",
       "    </tr>\n",
       "    <tr>\n",
       "      <th>17</th>\n",
       "      <td>The parent company of Taco Bell, KFC and Pizza...</td>\n",
       "    </tr>\n",
       "    <tr>\n",
       "      <th>18</th>\n",
       "      <td>Having announced a collaboration with Nike in ...</td>\n",
       "    </tr>\n",
       "    <tr>\n",
       "      <th>19</th>\n",
       "      <td>Strava has now made it possible for the Nike R...</td>\n",
       "    </tr>\n",
       "    <tr>\n",
       "      <th>20</th>\n",
       "      <td>Nike (NYSE:NKE) is the leader when it comes to...</td>\n",
       "    </tr>\n",
       "    <tr>\n",
       "      <th>21</th>\n",
       "      <td>Oct 23 (Reuters) - Unilever (ULVR.L) and a cha...</td>\n",
       "    </tr>\n",
       "    <tr>\n",
       "      <th>22</th>\n",
       "      <td>LONDON, Sept 19 (Reuters) - Nestle said on Tue...</td>\n",
       "    </tr>\n",
       "    <tr>\n",
       "      <th>23</th>\n",
       "      <td>Get Smart About News, modeled on the Sift, is ...</td>\n",
       "    </tr>\n",
       "    <tr>\n",
       "      <th>24</th>\n",
       "      <td>Editorial Note: Blueprint may earn a commissio...</td>\n",
       "    </tr>\n",
       "  </tbody>\n",
       "</table>\n",
       "</div>"
      ],
      "text/plain": [
       "                                              Article\n",
       "0   Retailers, the makers of foods marketed for we...\n",
       "1   Move over, Ozempic — there’s a new drug in tow...\n",
       "2   Sept 14 (Reuters) - Bristol Myers Squibb (BMY....\n",
       "3   Austin Wolcott was 18 years old and pretty sur...\n",
       "4   Cancer, often referred to as the “emperor of a...\n",
       "5   Nov 28 (Reuters) - The U.S. Food and Drug Admi...\n",
       "6   Nov 21 (Reuters) - BeiGene (6160.HK) said on T...\n",
       "7   Sept 19 (Reuters) - Drugmaker BeiGene (6160.HK...\n",
       "8   BRUKINSA is the first and only BTK inhibitor a...\n",
       "9   Whether you're looking for a quick bite to eat...\n",
       "10  A federal judge in New York has dismissed a la...\n",
       "11  The future of fast food delivery is here.\\n\\nD...\n",
       "12  Yum Brands topped Wall Street estimates for th...\n",
       "13  If you fancy Taco Bell's Nacho Fries, the fast...\n",
       "14  Taco Bell is serving up its new Toasted Breakf...\n",
       "15  Oct 30 (Reuters) - McDonald's (MCD.N) beat Wal...\n",
       "16  Whether you dip it, drizzle it, or put it on c...\n",
       "17  The parent company of Taco Bell, KFC and Pizza...\n",
       "18  Having announced a collaboration with Nike in ...\n",
       "19  Strava has now made it possible for the Nike R...\n",
       "20  Nike (NYSE:NKE) is the leader when it comes to...\n",
       "21  Oct 23 (Reuters) - Unilever (ULVR.L) and a cha...\n",
       "22  LONDON, Sept 19 (Reuters) - Nestle said on Tue...\n",
       "23  Get Smart About News, modeled on the Sift, is ...\n",
       "24  Editorial Note: Blueprint may earn a commissio..."
      ]
     },
     "execution_count": 123,
     "metadata": {},
     "output_type": "execute_result"
    }
   ],
   "source": [
    "df"
   ]
  },
  {
   "cell_type": "code",
   "execution_count": 124,
   "id": "5367f3de",
   "metadata": {},
   "outputs": [],
   "source": [
    "df.describe(include=\"O\");"
   ]
  },
  {
   "cell_type": "code",
   "execution_count": 125,
   "id": "1368d238",
   "metadata": {},
   "outputs": [
    {
     "name": "stdout",
     "output_type": "stream",
     "text": [
      "<class 'pandas.core.frame.DataFrame'>\n",
      "RangeIndex: 25 entries, 0 to 24\n",
      "Data columns (total 1 columns):\n",
      " #   Column   Non-Null Count  Dtype \n",
      "---  ------   --------------  ----- \n",
      " 0   Article  25 non-null     object\n",
      "dtypes: object(1)\n",
      "memory usage: 328.0+ bytes\n"
     ]
    }
   ],
   "source": [
    "df.info()"
   ]
  },
  {
   "cell_type": "code",
   "execution_count": 126,
   "id": "0c129ea8",
   "metadata": {},
   "outputs": [
    {
     "data": {
      "text/plain": [
       "Article    0\n",
       "dtype: int64"
      ]
     },
     "execution_count": 126,
     "metadata": {},
     "output_type": "execute_result"
    }
   ],
   "source": [
    "#Check the null enteries\n",
    "df.isnull().sum()"
   ]
  },
  {
   "cell_type": "code",
   "execution_count": 127,
   "id": "55545403",
   "metadata": {},
   "outputs": [],
   "source": [
    "# df.fillna(df.mode());(if you got the null values but we don;t have any)\n",
    "# # df.dropna();"
   ]
  },
  {
   "cell_type": "code",
   "execution_count": 128,
   "id": "5d48c8a9",
   "metadata": {},
   "outputs": [
    {
     "name": "stdout",
     "output_type": "stream",
     "text": [
      "                                             Article\n",
      "0  Retailers, the makers of foods marketed for we...\n",
      "1  Move over, Ozempic — there’s a new drug in tow...\n",
      "2  Sept 14 (Reuters) - Bristol Myers Squibb (BMY....\n",
      "3  Austin Wolcott was 18 years old and pretty sur...\n",
      "4  Cancer, often referred to as the “emperor of a...\n"
     ]
    }
   ],
   "source": [
    "# Display the first 10 rows to check the data\n",
    "print(df.head())"
   ]
  },
  {
   "cell_type": "code",
   "execution_count": 129,
   "id": "46e7318f",
   "metadata": {},
   "outputs": [],
   "source": [
    "# Convert text to lowercase\n",
    "df['Article'] = df['Article'].str.lower()"
   ]
  },
  {
   "cell_type": "code",
   "execution_count": 130,
   "id": "09a81ff4",
   "metadata": {},
   "outputs": [],
   "source": [
    "# Function to clean text\n",
    "def clean_text(text):\n",
    "    text = re.sub(r'\\s+', ' ', text)  # Remove extra spaces\n",
    "    text = re.sub(r'[^\\w\\s]', '', text)  # Remove punctuation\n",
    "    stop_words = set(stopwords.words('english'))\n",
    "    text = ' '.join([word for word in text.split() if word not in stop_words])\n",
    "    return text\n",
    "\n",
    "# Apply the cleaning function to the text\n",
    "df['cleaned_text'] = df['Article'].apply(clean_text)"
   ]
  },
  {
   "cell_type": "code",
   "execution_count": 131,
   "id": "5f32dc85",
   "metadata": {},
   "outputs": [
    {
     "name": "stdout",
     "output_type": "stream",
     "text": [
      "                                             Article  \\\n",
      "0  retailers, the makers of foods marketed for we...   \n",
      "1  move over, ozempic — there’s a new drug in tow...   \n",
      "2  sept 14 (reuters) - bristol myers squibb (bmy....   \n",
      "3  austin wolcott was 18 years old and pretty sur...   \n",
      "4  cancer, often referred to as the “emperor of a...   \n",
      "\n",
      "                                        cleaned_text  \n",
      "0  retailers makers foods marketed weight loss ty...  \n",
      "1  move ozempic theres new drug town eli lillys z...  \n",
      "2  sept 14 reuters bristol myers squibb bmyn said...  \n",
      "3  austin wolcott 18 years old pretty sure wouldn...  \n",
      "4  cancer often referred emperor maladies unyield...  \n"
     ]
    }
   ],
   "source": [
    "# Display the first few cleaned rows to check the data\n",
    "print(df[['Article', 'cleaned_text']].head())"
   ]
  },
  {
   "cell_type": "code",
   "execution_count": 132,
   "id": "db0391bf",
   "metadata": {},
   "outputs": [],
   "source": [
    "# Extract the texts\n",
    "texts = df['cleaned_text'].tolist()"
   ]
  },
  {
   "cell_type": "code",
   "execution_count": 133,
   "id": "32ee3341",
   "metadata": {},
   "outputs": [],
   "source": [
    "# Initialize the tokenizer\n",
    "tokenizer = Tokenizer()\n",
    "tokenizer.fit_on_texts(texts)"
   ]
  },
  {
   "cell_type": "code",
   "execution_count": 134,
   "id": "e4fe1baa",
   "metadata": {},
   "outputs": [],
   "source": [
    "# Convert text to sequences\n",
    "sequences = tokenizer.texts_to_sequences(texts)"
   ]
  },
  {
   "cell_type": "code",
   "execution_count": 135,
   "id": "d8bdc183",
   "metadata": {},
   "outputs": [],
   "source": [
    "# Define maximum sequence length\n",
    "maxlen = 256 "
   ]
  },
  {
   "cell_type": "code",
   "execution_count": 136,
   "id": "f74db83b",
   "metadata": {},
   "outputs": [],
   "source": [
    "# Pad sequences\n",
    "X=pad_sequences(sequences,maxlen=256,value=word_index['the'],padding='post')"
   ]
  },
  {
   "cell_type": "code",
   "execution_count": 137,
   "id": "73767c4f",
   "metadata": {},
   "outputs": [],
   "source": [
    "# we have a binary classification (e.g., positive or negative sentiment)\n",
    "# For demonstration, we'll create random labels (0: negative, 1: positive)\n",
    "labels = np.random.randint(2, size=len(df))"
   ]
  },
  {
   "cell_type": "code",
   "execution_count": 138,
   "id": "10f9e856",
   "metadata": {},
   "outputs": [],
   "source": [
    "# Split data into training and testing sets\n",
    "X_train, X_test, y_train, y_test = train_test_split(X, labels, test_size=0.2, random_state=42)"
   ]
  },
  {
   "cell_type": "code",
   "execution_count": 139,
   "id": "20f2a3b5",
   "metadata": {},
   "outputs": [
    {
     "data": {
      "text/plain": [
       "(25, 256)"
      ]
     },
     "execution_count": 139,
     "metadata": {},
     "output_type": "execute_result"
    }
   ],
   "source": [
    "X.shape"
   ]
  },
  {
   "cell_type": "code",
   "execution_count": 140,
   "id": "eaff4f6b",
   "metadata": {},
   "outputs": [
    {
     "data": {
      "text/plain": [
       "numpy.ndarray"
      ]
     },
     "execution_count": 140,
     "metadata": {},
     "output_type": "execute_result"
    }
   ],
   "source": [
    "type(labels)"
   ]
  },
  {
   "cell_type": "code",
   "execution_count": 141,
   "id": "d520fe0d",
   "metadata": {},
   "outputs": [],
   "source": [
    "output_dim=128\n",
    "max_words=256"
   ]
  },
  {
   "cell_type": "code",
   "execution_count": 142,
   "id": "4347845f",
   "metadata": {},
   "outputs": [],
   "source": [
    "# Build the LSTM model\n",
    "model=Sequential()\n",
    "model.add(Embedding(len(labels),output_dim,input_length=max_words))\n",
    "model.add(LSTM(128,activation='tanh'))\n",
    "model.add(Dense(1,activation='sigmoid'))# For binary classification"
   ]
  },
  {
   "cell_type": "code",
   "execution_count": 148,
   "id": "f017108b",
   "metadata": {},
   "outputs": [
    {
     "name": "stdout",
     "output_type": "stream",
     "text": [
      "Epoch 1/10\n",
      "1/1 [==============================] - 6s 6s/step - loss: 0.5451 - acc: 0.7000 - val_loss: 0.7799 - val_acc: 0.4000\n",
      "Epoch 2/10\n",
      "1/1 [==============================] - 0s 280ms/step - loss: 0.4734 - acc: 0.7000 - val_loss: 1.2432 - val_acc: 0.4000\n",
      "Epoch 3/10\n",
      "1/1 [==============================] - 0s 264ms/step - loss: 0.4638 - acc: 0.5500 - val_loss: 0.7265 - val_acc: 0.4000\n",
      "Epoch 4/10\n",
      "1/1 [==============================] - 0s 267ms/step - loss: 0.3745 - acc: 0.9500 - val_loss: 0.7068 - val_acc: 0.4000\n",
      "Epoch 5/10\n",
      "1/1 [==============================] - 0s 275ms/step - loss: 0.3906 - acc: 0.9500 - val_loss: 0.7003 - val_acc: 0.4000\n",
      "Epoch 6/10\n",
      "1/1 [==============================] - 0s 293ms/step - loss: 0.3902 - acc: 0.9500 - val_loss: 0.6962 - val_acc: 0.6000\n",
      "Epoch 7/10\n",
      "1/1 [==============================] - 0s 264ms/step - loss: 0.3814 - acc: 0.9500 - val_loss: 0.6926 - val_acc: 0.6000\n",
      "Epoch 8/10\n",
      "1/1 [==============================] - 0s 279ms/step - loss: 0.3665 - acc: 0.9500 - val_loss: 0.6890 - val_acc: 0.6000\n",
      "Epoch 9/10\n",
      "1/1 [==============================] - 0s 266ms/step - loss: 0.3462 - acc: 0.9500 - val_loss: 0.6849 - val_acc: 0.6000\n",
      "Epoch 10/10\n",
      "1/1 [==============================] - 0s 273ms/step - loss: 0.3208 - acc: 0.9500 - val_loss: 0.6800 - val_acc: 0.6000\n"
     ]
    },
    {
     "data": {
      "text/plain": [
       "<keras.callbacks.History at 0x204e80d3700>"
      ]
     },
     "execution_count": 148,
     "metadata": {},
     "output_type": "execute_result"
    }
   ],
   "source": [
    "model.compile(optimizer='adam',loss='binary_crossentropy',metrics=['acc'])\n",
    "# Train the model\n",
    "model.fit(X_train, y_train, epochs=10, batch_size=32, validation_data=(X_test, y_test))"
   ]
  },
  {
   "cell_type": "code",
   "execution_count": 151,
   "id": "53a9cca8",
   "metadata": {},
   "outputs": [
    {
     "name": "stdout",
     "output_type": "stream",
     "text": [
      "1/1 [==============================] - 0s 86ms/step\n"
     ]
    }
   ],
   "source": [
    "# Predict the model\n",
    "y_pred = model.predict(X_test)"
   ]
  },
  {
   "cell_type": "code",
   "execution_count": 95,
   "id": "527b193d",
   "metadata": {},
   "outputs": [
    {
     "name": "stdout",
     "output_type": "stream",
     "text": [
      "1/1 [==============================] - 1s 924ms/step\n"
     ]
    },
    {
     "data": {
      "text/plain": [
       "array([[0.5321177 ],\n",
       "       [0.5094392 ],\n",
       "       [0.5056964 ],\n",
       "       [0.51058996],\n",
       "       [0.5127509 ]], dtype=float32)"
      ]
     },
     "execution_count": 95,
     "metadata": {},
     "output_type": "execute_result"
    }
   ],
   "source": [
    "model.predict(X_test)"
   ]
  },
  {
   "cell_type": "code",
   "execution_count": null,
   "id": "ce51006b",
   "metadata": {},
   "outputs": [],
   "source": [
    "# Description\n",
    "\n",
    "1. Install and Import Required Libraries: Ensure you have all the necessary libraries installed.\n",
    "\n",
    "2. Input Data: Place your dataset.\n",
    "\n",
    "# Tools/Libraries Used\n",
    "\n",
    "1. Pandas: For data manipulation and analysis.\n",
    "2. Numpy: For numerical operations.\n",
    "3. NLTK: For natural language processing tasks.\n",
    "4. Keras: For building and training neural networks.\n",
    "5. Scikit-learn: For machine learning utilities and evaluation.\n",
    "\n",
    "# Steps Implemented\n",
    "\n",
    "1. Data Preprocessing: Cleaned and tokenized the text data.\n",
    "2. Model Building: Built and trained an LSTM model.\n",
    "3. Evaluation: Evaluated the model.\n",
    "    \n",
    "Step 1: Data Preparation\n",
    "    \n",
    "Extract the data from excel file and Load Data: Fetch data from given excel file and load it into a Pandas DataFrame.\n",
    "Data Cleaning: Preprocess the text data by removing punctuation, converting to lowercase, and removing stopwords.\n",
    "Tokenization and Padding: Tokenize the text and pad sequences for the LSTM model.\n",
    "    \n",
    "Step 2: Model Building\n",
    "\n",
    "Train-Test Split: Split the data into training and testing sets.\n",
    "Build LSTM Model: Define and compile the LSTM model.\n",
    "Train the Model: Train the LSTM model on the training data.\n",
    "    \n",
    "Step 3: Evaluation\n",
    "Evaluate the Model: Evaluate the model on the test data.\n",
    "Predict and Analyze: Make predictions."
   ]
  }
 ],
 "metadata": {
  "kernelspec": {
   "display_name": "Python 3 (ipykernel)",
   "language": "python",
   "name": "python3"
  },
  "language_info": {
   "codemirror_mode": {
    "name": "ipython",
    "version": 3
   },
   "file_extension": ".py",
   "mimetype": "text/x-python",
   "name": "python",
   "nbconvert_exporter": "python",
   "pygments_lexer": "ipython3",
   "version": "3.9.13"
  }
 },
 "nbformat": 4,
 "nbformat_minor": 5
}
